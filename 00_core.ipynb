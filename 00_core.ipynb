{
 "cells": [
  {
   "cell_type": "code",
   "execution_count": null,
   "metadata": {},
   "outputs": [],
   "source": [
    "#| default_exp core"
   ]
  },
  {
   "cell_type": "markdown",
   "metadata": {},
   "source": [
    "# core"
   ]
  },
  {
   "cell_type": "code",
   "execution_count": null,
   "metadata": {},
   "outputs": [],
   "source": [
    "#|export\n",
    "import os,shutil,subprocess,tempfile\n",
    "from contextlib import contextmanager\n",
    "from pathlib import Path"
   ]
  },
  {
   "cell_type": "code",
   "execution_count": null,
   "metadata": {},
   "outputs": [],
   "source": [
    "#|hide\n",
    "from fastcore.test import *\n",
    "from nbdev.showdoc import *"
   ]
  },
  {
   "cell_type": "code",
   "execution_count": null,
   "metadata": {},
   "outputs": [],
   "source": [
    "#|export\n",
    "class TmpDir:\n",
    "    \"Create temporary workspaces.\"\n",
    "    def __init__(self): self.cwd,self._dir,self.path = None,None,None\n",
    "\n",
    "    def new(self, subdir=''):\n",
    "        \"Create and `cd` to `subdir` under a temp dir.\"\n",
    "        if self.cwd is None: self.cwd = Path.cwd()\n",
    "        self.dir = Path(tempfile.mkdtemp())\n",
    "        self.path = self.dir/subdir\n",
    "        self.path.mkdir(exist_ok=True, parents=True)\n",
    "        os.chdir(self.path)\n",
    "\n",
    "    @property\n",
    "    def dir(self): return self._dir\n",
    "    @dir.setter\n",
    "    def dir(self, o):\n",
    "        \"`rm` current `dir` and set a new one.\"\n",
    "        if self._dir: shutil.rmtree(self._dir)\n",
    "        self._dir = o\n",
    "\n",
    "    def close(self):\n",
    "        \"`rm` current `dir` and `cd` to original `cwd`.\"\n",
    "        self.dir = None\n",
    "        os.chdir(self.cwd)\n",
    "\n",
    "    @contextmanager\n",
    "    def __call__(self, subdir=''):\n",
    "        \"Work in a temp dir then `cd` back to original `cwd`.\"\n",
    "        try:\n",
    "            self.new(subdir)\n",
    "            yield self.path\n",
    "        finally: self.close()"
   ]
  },
  {
   "cell_type": "markdown",
   "metadata": {},
   "source": [
    "The main way to use `TmpDir` is through the exported object:"
   ]
  },
  {
   "cell_type": "code",
   "execution_count": null,
   "metadata": {},
   "outputs": [],
   "source": [
    "#|exports\n",
    "tmpdir = TmpDir()"
   ]
  },
  {
   "cell_type": "markdown",
   "metadata": {},
   "source": [
    "We start out in our project dir:"
   ]
  },
  {
   "cell_type": "code",
   "execution_count": null,
   "metadata": {},
   "outputs": [
    {
     "data": {
      "text/plain": [
       "Path('/Users/seem/code/sketch-tmpdir')"
      ]
     },
     "execution_count": null,
     "metadata": {},
     "output_type": "execute_result"
    }
   ],
   "source": [
    "d0 = Path.cwd(); d0"
   ]
  },
  {
   "cell_type": "markdown",
   "metadata": {},
   "source": [
    "Switch to path `foo/bar` under a temp dir:"
   ]
  },
  {
   "cell_type": "code",
   "execution_count": null,
   "metadata": {},
   "outputs": [
    {
     "data": {
      "text/plain": [
       "Path('/private/var/folders/ft/0gnvc3ts5jz4ddqtttp6tjvm0000gn/T/tmp19y8l0h4/foo/bar')"
      ]
     },
     "execution_count": null,
     "metadata": {},
     "output_type": "execute_result"
    }
   ],
   "source": [
    "tmpdir.new('foo/bar')\n",
    "d1 = tmpdir.dir\n",
    "Path.cwd()"
   ]
  },
  {
   "cell_type": "markdown",
   "metadata": {},
   "source": [
    "If we switch again, the previous dir is removed:"
   ]
  },
  {
   "cell_type": "code",
   "execution_count": null,
   "metadata": {},
   "outputs": [
    {
     "data": {
      "text/plain": [
       "Path('/private/var/folders/ft/0gnvc3ts5jz4ddqtttp6tjvm0000gn/T/tmpnjqprlft/foo/bar')"
      ]
     },
     "execution_count": null,
     "metadata": {},
     "output_type": "execute_result"
    }
   ],
   "source": [
    "tmpdir.new('foo/bar')\n",
    "assert not d1.exists()\n",
    "d2 = tmpdir.dir\n",
    "Path.cwd()"
   ]
  },
  {
   "cell_type": "markdown",
   "metadata": {},
   "source": [
    "Finally, revert to the original working directory, which also removes the remaining temporary directory:"
   ]
  },
  {
   "cell_type": "code",
   "execution_count": null,
   "metadata": {},
   "outputs": [],
   "source": [
    "tmpdir.close()\n",
    "assert not d2.exists()\n",
    "test_eq(Path.cwd(), d0)"
   ]
  },
  {
   "cell_type": "markdown",
   "metadata": {},
   "source": [
    "You can also use it as a context manager to automatically revert to the original working directory at the end:"
   ]
  },
  {
   "cell_type": "code",
   "execution_count": null,
   "metadata": {},
   "outputs": [],
   "source": [
    "with tmpdir() as p:\n",
    "    d3 = tmpdir.dir\n",
    "    test_eq(Path.cwd().name, p.name)\n",
    "assert not d3.exists()\n",
    "test_eq(Path.cwd(), d0)"
   ]
  },
  {
   "cell_type": "markdown",
   "metadata": {},
   "source": [
    "One use-case is to write executable documentation for code that interacts with its workspace. For example, suppose you were writing the `git_repo` function of a Python git interface. You could demonstrate it as follows."
   ]
  },
  {
   "cell_type": "markdown",
   "metadata": {},
   "source": [
    "---"
   ]
  },
  {
   "cell_type": "code",
   "execution_count": null,
   "metadata": {},
   "outputs": [],
   "source": [
    "def git_repo():\n",
    "    \"Remote repo from git config.\"\n",
    "    cmd = 'git config --get remote.origin.url'\n",
    "    proc = subprocess.run(cmd, shell=True, capture_output=True, text=True)\n",
    "    if proc.returncode: return\n",
    "    return proc.stdout.strip().split('/', 1)[1].split('.')[0]"
   ]
  },
  {
   "cell_type": "markdown",
   "metadata": {},
   "source": [
    "Let's initialise a minimal repo to demonstrate:"
   ]
  },
  {
   "cell_type": "code",
   "execution_count": null,
   "metadata": {},
   "outputs": [],
   "source": [
    "tmpdir.new()"
   ]
  },
  {
   "cell_type": "code",
   "execution_count": null,
   "metadata": {},
   "outputs": [],
   "source": [
    "%%sh\n",
    "git init -q\n",
    "git remote add origin git@github.com:my-user/my-repo.git"
   ]
  },
  {
   "cell_type": "markdown",
   "metadata": {},
   "source": [
    "Get the repo name:"
   ]
  },
  {
   "cell_type": "code",
   "execution_count": null,
   "metadata": {},
   "outputs": [],
   "source": [
    "test_eq(git_repo(), 'my-repo')"
   ]
  },
  {
   "cell_type": "markdown",
   "metadata": {},
   "source": [
    "Returns `None` if you're not in a git repo:"
   ]
  },
  {
   "cell_type": "code",
   "execution_count": null,
   "metadata": {},
   "outputs": [],
   "source": [
    "with tmpdir(): test_is(git_repo(), None)"
   ]
  },
  {
   "cell_type": "markdown",
   "metadata": {},
   "source": [
    "---"
   ]
  },
  {
   "cell_type": "markdown",
   "metadata": {},
   "source": [
    "And you're back to your original working directory:"
   ]
  },
  {
   "cell_type": "code",
   "execution_count": null,
   "metadata": {},
   "outputs": [
    {
     "data": {
      "text/plain": [
       "Path('/Users/seem/code/sketch-tmpdir')"
      ]
     },
     "execution_count": null,
     "metadata": {},
     "output_type": "execute_result"
    }
   ],
   "source": [
    "Path.cwd()"
   ]
  },
  {
   "cell_type": "code",
   "execution_count": null,
   "metadata": {},
   "outputs": [],
   "source": [
    "#|hide\n",
    "import nbdev; nbdev.nbdev_export()"
   ]
  }
 ],
 "metadata": {
  "kernelspec": {
   "display_name": "Python 3 (ipykernel)",
   "language": "python",
   "name": "python3"
  }
 },
 "nbformat": 4,
 "nbformat_minor": 4
}
