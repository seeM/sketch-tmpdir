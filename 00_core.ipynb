{
 "cells": [
  {
   "cell_type": "code",
   "execution_count": null,
   "metadata": {},
   "outputs": [],
   "source": [
    "#| default_exp core"
   ]
  },
  {
   "cell_type": "markdown",
   "metadata": {},
   "source": [
    "# core"
   ]
  },
  {
   "cell_type": "code",
   "execution_count": null,
   "metadata": {},
   "outputs": [],
   "source": [
    "#|export\n",
    "import os,shutil,subprocess,tempfile\n",
    "from contextlib import contextmanager\n",
    "from pathlib import Path"
   ]
  },
  {
   "cell_type": "code",
   "execution_count": null,
   "metadata": {},
   "outputs": [],
   "source": [
    "#|hide\n",
    "from fastcore.test import *\n",
    "from nbdev.showdoc import *"
   ]
  },
  {
   "cell_type": "code",
   "execution_count": null,
   "metadata": {},
   "outputs": [],
   "source": [
    "#|export\n",
    "class TmpDir:\n",
    "    \"Create temporary workspaces.\"\n",
    "    def __init__(self): self.cwd,self._dir,self.path = None,None,None\n",
    "\n",
    "    def new(self, subdir=''):\n",
    "        \"Create and `cd` to `subdir` under a temp dir.\"\n",
    "        if self.cwd is None: self.cwd = Path.cwd()\n",
    "        self.dir = Path(tempfile.mkdtemp())\n",
    "        self.path = self.dir/subdir\n",
    "        self.path.mkdir(exist_ok=True, parents=True)\n",
    "        os.chdir(self.path)\n",
    "\n",
    "    @property\n",
    "    def dir(self): return self._dir\n",
    "    @dir.setter\n",
    "    def dir(self, o):\n",
    "        \"`rm` current `dir` and set a new one.\"\n",
    "        if self._dir: shutil.rmtree(self._dir)\n",
    "        self._dir = o\n",
    "\n",
    "    def close(self):\n",
    "        \"`rm` current `dir` and `cd` to original `cwd`.\"\n",
    "        self.dir = None\n",
    "        os.chdir(self.cwd)\n",
    "\n",
    "    @contextmanager\n",
    "    def __call__(self, subdir=''):\n",
    "        \"Work in a temp dir then `cd` back to original `cwd`.\"\n",
    "        try:\n",
    "            self.new(subdir)\n",
    "            yield self.path\n",
    "        finally: self.close()"
   ]
  },
  {
   "cell_type": "markdown",
   "metadata": {},
   "source": [
    "The main way to use `TmpDir` is through the exported object:"
   ]
  },
  {
   "cell_type": "code",
   "execution_count": null,
   "metadata": {},
   "outputs": [],
   "source": [
    "#|exports\n",
    "tmpdir = TmpDir()"
   ]
  },
  {
   "cell_type": "markdown",
   "metadata": {},
   "source": [
    "We start out in our project dir:"
   ]
  },
  {
   "cell_type": "code",
   "execution_count": null,
   "metadata": {},
   "outputs": [
    {
     "data": {
      "text/plain": [
       "Path('/Users/seem/code/sketch-tmpdir')"
      ]
     },
     "execution_count": null,
     "metadata": {},
     "output_type": "execute_result"
    }
   ],
   "source": [
    "d0 = Path.cwd(); d0"
   ]
  },
  {
   "cell_type": "markdown",
   "metadata": {},
   "source": [
    "Switch to path `foo/bar` under a temp dir:"
   ]
  },
  {
   "cell_type": "code",
   "execution_count": null,
   "metadata": {},
   "outputs": [
    {
     "data": {
      "text/plain": [
       "Path('/private/var/folders/ft/0gnvc3ts5jz4ddqtttp6tjvm0000gn/T/tmp19y8l0h4/foo/bar')"
      ]
     },
     "execution_count": null,
     "metadata": {},
     "output_type": "execute_result"
    }
   ],
   "source": [
    "tmpdir.new('foo/bar')\n",
    "d1 = tmpdir.dir\n",
    "Path.cwd()"
   ]
  },
  {
   "cell_type": "markdown",
   "metadata": {},
   "source": [
    "If we switch again, the previous dir is removed:"
   ]
  },
  {
   "cell_type": "code",
   "execution_count": null,
   "metadata": {},
   "outputs": [
    {
     "data": {
      "text/plain": [
       "Path('/private/var/folders/ft/0gnvc3ts5jz4ddqtttp6tjvm0000gn/T/tmpnjqprlft/foo/bar')"
      ]
     },
     "execution_count": null,
     "metadata": {},
     "output_type": "execute_result"
    }
   ],
   "source": [
    "tmpdir.new('foo/bar')\n",
    "assert not d1.exists()\n",
    "d2 = tmpdir.dir\n",
    "Path.cwd()"
   ]
  },
  {
   "cell_type": "markdown",
   "metadata": {},
   "source": [
    "Finally, revert to the original working directory, which also removes the remaining temporary directory:"
   ]
  },
  {
   "cell_type": "code",
   "execution_count": null,
   "metadata": {},
   "outputs": [],
   "source": [
    "tmpdir.close()\n",
    "assert not d2.exists()\n",
    "test_eq(Path.cwd(), d0)"
   ]
  },
  {
   "cell_type": "markdown",
   "metadata": {},
   "source": [
    "You can also use it as a context manager to automatically revert to the original working directory at the end:"
   ]
  },
  {
   "cell_type": "code",
   "execution_count": null,
   "metadata": {},
   "outputs": [],
   "source": [
    "with tmpdir() as p:\n",
    "    d3 = tmpdir.dir\n",
    "    test_eq(Path.cwd().name, p.name)\n",
    "assert not d3.exists()\n",
    "test_eq(Path.cwd(), d0)"
   ]
  },
  {
   "cell_type": "markdown",
   "metadata": {},
   "source": [
    "The primary use-case is to write executable documentation for code that interacts with its workspace, as described in the examples below."
   ]
  },
  {
   "cell_type": "markdown",
   "metadata": {},
   "source": [
    "## Example 1: Python git interface"
   ]
  },
  {
   "cell_type": "code",
   "execution_count": null,
   "metadata": {},
   "outputs": [],
   "source": [
    "def git_repo():\n",
    "    \"Remote repo from git config.\"\n",
    "    cmd = 'git config --get remote.origin.url'\n",
    "    proc = subprocess.run(cmd, shell=True, capture_output=True, text=True)\n",
    "    if proc.returncode: return\n",
    "    return proc.stdout.strip().split('/', 1)[1].split('.')[0]"
   ]
  },
  {
   "cell_type": "markdown",
   "metadata": {},
   "source": [
    "Let's initialise a minimal repo to demonstrate:"
   ]
  },
  {
   "cell_type": "code",
   "execution_count": null,
   "metadata": {},
   "outputs": [],
   "source": [
    "tmpdir.new()"
   ]
  },
  {
   "cell_type": "code",
   "execution_count": null,
   "metadata": {},
   "outputs": [],
   "source": [
    "%%sh\n",
    "git init -q\n",
    "git remote add origin git@github.com:my-user/my-repo.git"
   ]
  },
  {
   "cell_type": "markdown",
   "metadata": {},
   "source": [
    "Get the repo name:"
   ]
  },
  {
   "cell_type": "code",
   "execution_count": null,
   "metadata": {},
   "outputs": [],
   "source": [
    "test_eq(git_repo(), 'my-repo')"
   ]
  },
  {
   "cell_type": "markdown",
   "metadata": {},
   "source": [
    "Returns `None` if you're not in a git repo:"
   ]
  },
  {
   "cell_type": "code",
   "execution_count": null,
   "metadata": {},
   "outputs": [],
   "source": [
    "with tmpdir(): test_is(git_repo(), None)"
   ]
  },
  {
   "cell_type": "markdown",
   "metadata": {},
   "source": [
    "And you're back to your original working directory:"
   ]
  },
  {
   "cell_type": "code",
   "execution_count": null,
   "metadata": {},
   "outputs": [
    {
     "data": {
      "text/plain": [
       "Path('/Users/seem/code/sketch-tmpdir')"
      ]
     },
     "execution_count": null,
     "metadata": {},
     "output_type": "execute_result"
    }
   ],
   "source": [
    "Path.cwd()"
   ]
  },
  {
   "cell_type": "markdown",
   "metadata": {},
   "source": [
    "## Example 2: nbdev hooks"
   ]
  },
  {
   "cell_type": "markdown",
   "metadata": {},
   "source": [
    "This section shows what the [end-to-end nbdev hooks test](https://github.com/fastai/nbdev/blob/master/nbs/10_clean.ipynb) could look like with `tmpdir`. The test checks that nbdev's notebook-aware merge driver works. In order to do that we need to simulate a merge conflict, which involves some back-and-forth with git."
   ]
  },
  {
   "cell_type": "code",
   "execution_count": null,
   "metadata": {},
   "outputs": [],
   "source": [
    "from copy import deepcopy\n",
    "from execnb.nbio import dict2nb, mk_cell, read_nb, write_nb\n",
    "from fastcore.foundation import Config\n",
    "from nbdev.read import create_output, show_src"
   ]
  },
  {
   "cell_type": "markdown",
   "metadata": {},
   "source": [
    "Start a new workspace:"
   ]
  },
  {
   "cell_type": "code",
   "execution_count": null,
   "metadata": {},
   "outputs": [],
   "source": [
    "tmpdir.new()"
   ]
  },
  {
   "cell_type": "markdown",
   "metadata": {},
   "source": [
    "Init a git repo and checkout our main branch -- this is where we'll run our tests:"
   ]
  },
  {
   "cell_type": "code",
   "execution_count": null,
   "metadata": {},
   "outputs": [
    {
     "name": "stdout",
     "output_type": "stream",
     "text": [
      "Initialized empty Git repository in /private/var/folders/ft/0gnvc3ts5jz4ddqtttp6tjvm0000gn/T/tmpggvpu_sy/.git/\n"
     ]
    }
   ],
   "source": [
    "%%sh\n",
    "git init"
   ]
  },
  {
   "cell_type": "code",
   "execution_count": null,
   "metadata": {},
   "outputs": [
    {
     "name": "stderr",
     "output_type": "stream",
     "text": [
      "Switched to a new branch 'main'\n"
     ]
    }
   ],
   "source": [
    "%%sh\n",
    "git checkout -b main"
   ]
  },
  {
   "cell_type": "markdown",
   "metadata": {},
   "source": [
    "Install nbdev hooks:"
   ]
  },
  {
   "cell_type": "code",
   "execution_count": null,
   "metadata": {},
   "outputs": [
    {
     "name": "stdout",
     "output_type": "stream",
     "text": [
      "Hooks are installed.\n"
     ]
    }
   ],
   "source": [
    "%%sh\n",
    "nbdev_install_hooks"
   ]
  },
  {
   "cell_type": "markdown",
   "metadata": {},
   "source": [
    "Next, we'll simulate a merge conflict. First we add `random.ipynb` notebook to `main`. Here's what it looks like to start with:"
   ]
  },
  {
   "cell_type": "code",
   "execution_count": null,
   "metadata": {},
   "outputs": [],
   "source": [
    "#|hide\n",
    "from fastcore.utils import *"
   ]
  },
  {
   "cell_type": "code",
   "execution_count": null,
   "metadata": {},
   "outputs": [],
   "source": [
    "#|hide\n",
    "def show_nb(fn):\n",
    "    nb = read_nb(fn)\n",
    "    head = f'# {fn}'\n",
    "    body = [head]\n",
    "    for cell in nb.cells:\n",
    "        c = f'# %%\\n' + cell.source\n",
    "        out = nested_idx(cell, 'output', 0, 'data', 'text/plain')\n",
    "        if out: c += ''.join('\\n# '+o.strip() for o in out)\n",
    "        body.append(c)\n",
    "    return show_src('\\n\\n'.join(body))"
   ]
  },
  {
   "cell_type": "code",
   "execution_count": null,
   "metadata": {},
   "outputs": [
    {
     "data": {
      "text/markdown": [
       "```python\n",
       "# random.ipynb\n",
       "\n",
       "# %%\n",
       "import random\n",
       "\n",
       "# %%\n",
       "random.random()\n",
       "# 0.3314001088639852\n",
       "# 0.20280244713400464\n",
       "```"
      ],
      "text/plain": [
       "<IPython.core.display.Markdown object>"
      ]
     },
     "execution_count": null,
     "metadata": {},
     "output_type": "execute_result"
    }
   ],
   "source": [
    "fn = 'random.ipynb'\n",
    "meta = {'nbformat': 4,'metadata':{'kernelspec':{'display_name':'Python 3','language': 'python','name': 'python3'}}}\n",
    "base = dict2nb({'cells':[mk_cell('import random'), mk_cell('random.random()')], **meta})\n",
    "base.cells[-1].output = create_output('0.3314001088639852\\n0.20280244713400464', 'plain')\n",
    "write_nb(base, fn)\n",
    "show_nb(fn)"
   ]
  },
  {
   "cell_type": "markdown",
   "metadata": {},
   "source": [
    "Commit it:"
   ]
  },
  {
   "cell_type": "code",
   "execution_count": null,
   "metadata": {},
   "outputs": [],
   "source": [
    "%%sh\n",
    "git add .\n",
    "git commit -q -m 'add random.ipynb'"
   ]
  },
  {
   "cell_type": "markdown",
   "metadata": {},
   "source": [
    "Next, checkout a new branch `add-heading`:"
   ]
  },
  {
   "cell_type": "code",
   "execution_count": null,
   "metadata": {},
   "outputs": [
    {
     "name": "stderr",
     "output_type": "stream",
     "text": [
      "Switched to a new branch 'add-heading'\n"
     ]
    }
   ],
   "source": [
    "%%sh\n",
    "git checkout -b add-heading"
   ]
  },
  {
   "cell_type": "markdown",
   "metadata": {},
   "source": [
    "Make a change. We added a new markdown cell `Calculate a random number:`, imported `os`, and got different `random.random()` outputs -- the perfect recipe for a merge conflict:"
   ]
  },
  {
   "cell_type": "code",
   "execution_count": null,
   "metadata": {},
   "outputs": [
    {
     "data": {
      "text/markdown": [
       "```python\n",
       "# random.ipynb\n",
       "\n",
       "# %%\n",
       "import random,os\n",
       "\n",
       "# %%\n",
       "Calculate a random number:\n",
       "\n",
       "# %%\n",
       "random.random()\n",
       "# 0.3379097372590093\n",
       "# 0.7379492349993123\n",
       "```"
      ],
      "text/plain": [
       "<IPython.core.display.Markdown object>"
      ]
     },
     "execution_count": null,
     "metadata": {},
     "output_type": "execute_result"
    }
   ],
   "source": [
    "ours = deepcopy(base)\n",
    "ours.cells[0].source+=',os' # Change first cell\n",
    "ours.cells.insert(1, mk_cell('Calculate a random number:', cell_type='markdown')) # New cell\n",
    "ours.cells[-1].output = create_output('0.3379097372590093\\n0.7379492349993123', 'plain') # Change outputs\n",
    "write_nb(ours, fn)\n",
    "show_nb(fn)"
   ]
  },
  {
   "cell_type": "markdown",
   "metadata": {},
   "source": [
    "Commit it:"
   ]
  },
  {
   "cell_type": "code",
   "execution_count": null,
   "metadata": {},
   "outputs": [
    {
     "name": "stdout",
     "output_type": "stream",
     "text": [
      "[add-heading 5b71b21] heading\n",
      " 1 file changed, 10 insertions(+), 3 deletions(-)\n"
     ]
    }
   ],
   "source": [
    "%%sh\n",
    "git commit -am heading"
   ]
  },
  {
   "cell_type": "markdown",
   "metadata": {},
   "source": [
    "Go back to main:"
   ]
  },
  {
   "cell_type": "code",
   "execution_count": null,
   "metadata": {},
   "outputs": [
    {
     "name": "stderr",
     "output_type": "stream",
     "text": [
      "Switched to branch 'main'\n"
     ]
    }
   ],
   "source": [
    "%%sh\n",
    "git checkout main"
   ]
  },
  {
   "cell_type": "markdown",
   "metadata": {},
   "source": [
    "Make a different change:"
   ]
  },
  {
   "cell_type": "code",
   "execution_count": null,
   "metadata": {},
   "outputs": [],
   "source": [
    "#|hide\n",
    "thrs = deepcopy(base)\n",
    "thrs.cells[0].source+=',sys'# Also change first cell\n",
    "thrs.cells.insert(0, mk_cell('# Random numbers', cell_type='markdown')) # New cell\n",
    "thrs.cells[-1].output = create_output('0.6587181429602441\\n0.5962200692415515', 'plain') # Change outputs\n",
    "write_nb(thrs, fn)"
   ]
  },
  {
   "cell_type": "code",
   "execution_count": null,
   "metadata": {},
   "outputs": [
    {
     "data": {
      "text/markdown": [
       "```python\n",
       "# random.ipynb\n",
       "\n",
       "# %%\n",
       "# Random numbers\n",
       "\n",
       "# %%\n",
       "import random,sys\n",
       "\n",
       "# %%\n",
       "random.random()\n",
       "# 0.6587181429602441\n",
       "# 0.5962200692415515\n",
       "```"
      ],
      "text/plain": [
       "<IPython.core.display.Markdown object>"
      ]
     },
     "execution_count": null,
     "metadata": {},
     "output_type": "execute_result"
    }
   ],
   "source": [
    "show_nb(fn)"
   ]
  },
  {
   "cell_type": "markdown",
   "metadata": {},
   "source": [
    "Commit it:"
   ]
  },
  {
   "cell_type": "code",
   "execution_count": null,
   "metadata": {},
   "outputs": [
    {
     "name": "stdout",
     "output_type": "stream",
     "text": [
      "[main d3b0252] docs\n",
      " 1 file changed, 10 insertions(+), 3 deletions(-)\n"
     ]
    }
   ],
   "source": [
    "%%sh\n",
    "git commit -am docs"
   ]
  },
  {
   "cell_type": "markdown",
   "metadata": {},
   "source": [
    "And finally try to merge:"
   ]
  },
  {
   "cell_type": "code",
   "execution_count": null,
   "metadata": {},
   "outputs": [
    {
     "name": "stdout",
     "output_type": "stream",
     "text": [
      "One or more conflict remains in the notebook, please inspect manually.\n",
      "Auto-merging random.ipynb\n",
      "CONFLICT (content): Merge conflict in random.ipynb\n",
      "Automatic merge failed; fix conflicts and then commit the result.\n"
     ]
    }
   ],
   "source": [
    "%%sh --no-raise-error\n",
    "git merge add-heading"
   ]
  },
  {
   "cell_type": "markdown",
   "metadata": {},
   "source": [
    "We have a merge conflict! But thanks to nbdev:\n",
    "\n",
    "1. Conflicting outputs are automatically resolved\n",
    "2. The notebook is left in a readable state."
   ]
  },
  {
   "cell_type": "code",
   "execution_count": null,
   "metadata": {},
   "outputs": [
    {
     "data": {
      "text/markdown": [
       "```python\n",
       "# random.ipynb\n",
       "\n",
       "# %%\n",
       "# Random numbers\n",
       "\n",
       "# %%\n",
       "`<<<<<<< HEAD`\n",
       "\n",
       "# %%\n",
       "import random,sys\n",
       "\n",
       "# %%\n",
       "`=======`\n",
       "\n",
       "# %%\n",
       "import random,os\n",
       "\n",
       "# %%\n",
       "Calculate a random number:\n",
       "\n",
       "# %%\n",
       "`>>>>>>> add-heading`\n",
       "\n",
       "# %%\n",
       "random.random()\n",
       "# 0.6587181429602441\n",
       "# 0.5962200692415515\n",
       "```"
      ],
      "text/plain": [
       "<IPython.core.display.Markdown object>"
      ]
     },
     "execution_count": null,
     "metadata": {},
     "output_type": "execute_result"
    }
   ],
   "source": [
    "show_nb(fn)"
   ]
  },
  {
   "cell_type": "markdown",
   "metadata": {},
   "source": [
    "Close `tmpdir`, and you're back to your original working directory:"
   ]
  },
  {
   "cell_type": "code",
   "execution_count": null,
   "metadata": {},
   "outputs": [],
   "source": [
    "tmpdir.close()\n",
    "Path.cwd()"
   ]
  },
  {
   "cell_type": "code",
   "execution_count": null,
   "metadata": {},
   "outputs": [],
   "source": [
    "#|hide\n",
    "import nbdev; nbdev.nbdev_export()"
   ]
  }
 ],
 "metadata": {
  "kernelspec": {
   "display_name": "Python 3 (ipykernel)",
   "language": "python",
   "name": "python3"
  }
 },
 "nbformat": 4,
 "nbformat_minor": 4
}
